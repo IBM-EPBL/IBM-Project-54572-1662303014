{
 "cells": [
  {
   "cell_type": "code",
   "execution_count": 2,
   "metadata": {},
   "outputs": [
    {
     "name": "stdout",
     "output_type": "stream",
     "text": [
      "eyJraWQiOiIyMDIyMTExMjA4MjgiLCJhbGciOiJSUzI1NiJ9.eyJpYW1faWQiOiJJQk1pZC02NjUwMDJGWDc5IiwiaWQiOiJJQk1pZC02NjUwMDJGWDc5IiwicmVhbG1pZCI6IklCTWlkIiwianRpIjoiNWJjNjU5ZTMtNjVjYy00MDU0LTg3ZmItNThkNzZlMDI3MGYyIiwiaWRlbnRpZmllciI6IjY2NTAwMkZYNzkiLCJnaXZlbl9uYW1lIjoiU2luZWdhbGF0aGEiLCJmYW1pbHlfbmFtZSI6IkIiLCJuYW1lIjoiU2luZWdhbGF0aGEgQiIsImVtYWlsIjoiMTliY3M0MTEwQG1rY2UuYWMuaW4iLCJzdWIiOiIxOWJjczQxMTBAbWtjZS5hYy5pbiIsImF1dGhuIjp7InN1YiI6IjE5YmNzNDExMEBta2NlLmFjLmluIiwiaWFtX2lkIjoiSUJNaWQtNjY1MDAyRlg3OSIsIm5hbWUiOiJTaW5lZ2FsYXRoYSBCIiwiZ2l2ZW5fbmFtZSI6IlNpbmVnYWxhdGhhIiwiZmFtaWx5X25hbWUiOiJCIiwiZW1haWwiOiIxOWJjczQxMTBAbWtjZS5hYy5pbiJ9LCJhY2NvdW50Ijp7ImJvdW5kYXJ5IjoiZ2xvYmFsIiwidmFsaWQiOnRydWUsImJzcyI6IjFjNGRiMmUwMGJjZjQwNTk4NjIxNTEzMjNmMzdmMGVjIiwiZnJvemVuIjp0cnVlfSwiaWF0IjoxNjY4ODMwNTUzLCJleHAiOjE2Njg4MzQxNTMsImlzcyI6Imh0dHBzOi8vaWFtLmNsb3VkLmlibS5jb20vaWRlbnRpdHkiLCJncmFudF90eXBlIjoidXJuOmlibTpwYXJhbXM6b2F1dGg6Z3JhbnQtdHlwZTphcGlrZXkiLCJzY29wZSI6ImlibSBvcGVuaWQiLCJjbGllbnRfaWQiOiJkZWZhdWx0IiwiYWNyIjoxLCJhbXIiOlsicHdkIl19.kwxfZj9giNenSQvccm8Bwk2rXGevUr9dcTqqBDSBGDOezFOM9nigF5Leego72vcU07acqZSBt01w-xenRtf9rtN21fhtDNpSoMXAe_llpvZD5buEM1xDGEWcxO_2m-8zYkkhRH33HJeRagRjMveTEdxlDQsRMIPXCUog6pYwLenf6cCrg2v9ns5Esplt0mgUIANwGs1bAPgfaXjh0JVvyq_3GX9fyWQBgSvaRDRTactoD00y6cNm3QMwPT0uJayeZq4rOOJH0FeCOSQYelV8ccTVah3_dY3TzblLfRnwuknJ0-8rFPXMFGo8KnfkDqMyT-fUsr2V6Z3CZElifz4zgg\n",
      "Scoring response\n",
      "{'trace': '095bb3871f1adcb6e61591ee03192102', 'errors': [{'code': 'invalid_payload', 'message': '{\\n  \"trace\": \"095bb3871f1adcb6e61591ee03192102\",\\n  \"errors\": [{\\n    \"code\": \"invalid_payload\",\\n    \"message\": \"Scoring payload does not contain the required field \\'values\\'\"\\n  }]\\n}'}]}\n"
     ]
    }
   ],
   "source": [
    "import requests\n",
    "\n",
    "# NOTE: you must manually set API_KEY below using information retrieved from your IBM Cloud account.\n",
    "API_KEY = \"xEYB_6GPtgJv8MBNgWBC-leZK-tFFDTO1zEiR1bmUZtx\"\n",
    "token_response = requests.post('https://iam.cloud.ibm.com/identity/token', data={\"apikey\":\n",
    " API_KEY, \"grant_type\": 'urn:ibm:params:oauth:grant-type:apikey'})\n",
    "mltoken = token_response.json()[\"access_token\"]\n",
    "print(mltoken)\n",
    "header = {'Content-Type': 'application/json', 'Authorization': 'Bearer ' + mltoken}\n",
    "\n",
    "# NOTE: manually define and pass the array(s) of values to be scored in the next line\n",
    "payload_scoring = {\"input_data\": [{\"fields\": [\"id\",\"age\",\"bp\",\"sg\",\"al\",\"su\",\"rbc\",\"pc\",\"pcc\",\"ba\",\"bgr\",\"bu\",\"sc\",\"sod\",\"pot\",\"hemo\",\"pcv\",\"wc\",\"rc\",\"htn\",\"dm\",\"cad\",\"appet\",\"pe\",\"ane\"], \"values\": [0,48, 80, 1.02, 1, 0, \"normal\", \"normal\", \"notpresent\", \"notpresent\", 121, 36, 1.2, 111, 2.5, 15.4, 44, 7800, 5.2, \"yes\", \"yes\", \"no\", \"good\", \"no\", \"no\"]}]}\n",
    "\n",
    "response_scoring = requests.post('https://us-south.ml.cloud.ibm.com/ml/v4/deployments/8602eb84-a5ce-4b45-a7aa-53bc738f85a8/predictions?version=2022-11-18', json=payload_scoring,\n",
    " headers={'Authorization': 'Bearer ' + mltoken})\n",
    "print(\"Scoring response\")\n",
    "print(response_scoring.json())"
   ]
  },
  {
   "cell_type": "code",
   "execution_count": null,
   "metadata": {},
   "outputs": [],
   "source": []
  }
 ],
 "metadata": {
  "kernelspec": {
   "display_name": "Python 3",
   "language": "python",
   "name": "python3"
  },
  "language_info": {
   "codemirror_mode": {
    "name": "ipython",
    "version": 3
   },
   "file_extension": ".py",
   "mimetype": "text/x-python",
   "name": "python",
   "nbconvert_exporter": "python",
   "pygments_lexer": "ipython3",
   "version": "3.8.3"
  }
 },
 "nbformat": 4,
 "nbformat_minor": 4
}
